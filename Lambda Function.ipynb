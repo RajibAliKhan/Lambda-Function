{
 "cells": [
  {
   "cell_type": "code",
   "execution_count": 1,
   "id": "9839c76b-0bc2-44b0-b757-129094fbe66e",
   "metadata": {},
   "outputs": [],
   "source": [
    "# lambda function is a one type of anonymas function.\n",
    "\n",
    "n = 3\n",
    "p = 2"
   ]
  },
  {
   "cell_type": "code",
   "execution_count": 2,
   "id": "c85a8494-2cf0-4e81-8309-9992ab1c2531",
   "metadata": {},
   "outputs": [
    {
     "data": {
      "text/plain": [
       "9"
      ]
     },
     "execution_count": 2,
     "metadata": {},
     "output_type": "execute_result"
    }
   ],
   "source": [
    "def test1(n,p) :\n",
    "    return n**p\n",
    "test1(3,2)"
   ]
  },
  {
   "cell_type": "code",
   "execution_count": 4,
   "id": "d85f0dc3-7373-4092-be62-5c6ef21f6e7c",
   "metadata": {},
   "outputs": [],
   "source": [
    "a = lambda n,p : n**p"
   ]
  },
  {
   "cell_type": "code",
   "execution_count": 5,
   "id": "0f661a45-9bb5-43dc-91b3-d6b53a6a26b3",
   "metadata": {},
   "outputs": [
    {
     "data": {
      "text/plain": [
       "9"
      ]
     },
     "execution_count": 5,
     "metadata": {},
     "output_type": "execute_result"
    }
   ],
   "source": [
    "a(3,2)"
   ]
  },
  {
   "cell_type": "code",
   "execution_count": 6,
   "id": "4aabd75e-234b-4a8f-a4a5-641ad111e7a8",
   "metadata": {},
   "outputs": [],
   "source": [
    "add = lambda x,y : x + y"
   ]
  },
  {
   "cell_type": "code",
   "execution_count": 7,
   "id": "2db8bccb-74bd-4134-ab41-5f96ef04758c",
   "metadata": {},
   "outputs": [
    {
     "data": {
      "text/plain": [
       "9"
      ]
     },
     "execution_count": 7,
     "metadata": {},
     "output_type": "execute_result"
    }
   ],
   "source": [
    "add(4,5)"
   ]
  },
  {
   "cell_type": "code",
   "execution_count": 8,
   "id": "84b03add-cde2-409f-a7c6-c454017edb29",
   "metadata": {},
   "outputs": [],
   "source": [
    "# centrigrade to fahrenheit\n",
    "\n",
    "c_to_f = lambda c : (9/5)*c + 32"
   ]
  },
  {
   "cell_type": "code",
   "execution_count": 10,
   "id": "3f14a0df-0383-4172-936b-4a4c59826268",
   "metadata": {},
   "outputs": [
    {
     "data": {
      "text/plain": [
       "113.0"
      ]
     },
     "execution_count": 10,
     "metadata": {},
     "output_type": "execute_result"
    }
   ],
   "source": [
    "c_to_f(45)"
   ]
  },
  {
   "cell_type": "code",
   "execution_count": 12,
   "id": "befa6afb-fb22-4f8d-b061-825088e0f0f2",
   "metadata": {},
   "outputs": [],
   "source": [
    "finding_max = lambda x,y : x if x > y else y"
   ]
  },
  {
   "cell_type": "code",
   "execution_count": 13,
   "id": "e1047d63-dc6e-4cc0-bc41-f1b6538bbfca",
   "metadata": {},
   "outputs": [
    {
     "data": {
      "text/plain": [
       "8"
      ]
     },
     "execution_count": 13,
     "metadata": {},
     "output_type": "execute_result"
    }
   ],
   "source": [
    "finding_max(8,5)"
   ]
  },
  {
   "cell_type": "code",
   "execution_count": 14,
   "id": "3c27113f-db7a-422f-83f1-04a3578ee6b0",
   "metadata": {},
   "outputs": [
    {
     "data": {
      "text/plain": [
       "88"
      ]
     },
     "execution_count": 14,
     "metadata": {},
     "output_type": "execute_result"
    }
   ],
   "source": [
    "finding_max(56,88)"
   ]
  },
  {
   "cell_type": "code",
   "execution_count": 15,
   "id": "79e5189d-2b1d-44db-a425-663eca6ef9bc",
   "metadata": {},
   "outputs": [],
   "source": [
    "s = 'rajib'"
   ]
  },
  {
   "cell_type": "code",
   "execution_count": 17,
   "id": "089f92b0-4950-4352-8ef4-343e62b4fe02",
   "metadata": {},
   "outputs": [],
   "source": [
    "length_s = lambda s : len(s)"
   ]
  },
  {
   "cell_type": "code",
   "execution_count": 18,
   "id": "6633eccd-4c98-435a-aa84-43eb1f2a4dde",
   "metadata": {},
   "outputs": [
    {
     "data": {
      "text/plain": [
       "5"
      ]
     },
     "execution_count": 18,
     "metadata": {},
     "output_type": "execute_result"
    }
   ],
   "source": [
    "length_s(s)"
   ]
  },
  {
   "cell_type": "code",
   "execution_count": null,
   "id": "42268de2-7fce-420e-8a2c-12e05d2241dc",
   "metadata": {},
   "outputs": [],
   "source": []
  }
 ],
 "metadata": {
  "kernelspec": {
   "display_name": "Python 3 (ipykernel)",
   "language": "python",
   "name": "python3"
  },
  "language_info": {
   "codemirror_mode": {
    "name": "ipython",
    "version": 3
   },
   "file_extension": ".py",
   "mimetype": "text/x-python",
   "name": "python",
   "nbconvert_exporter": "python",
   "pygments_lexer": "ipython3",
   "version": "3.10.8"
  }
 },
 "nbformat": 4,
 "nbformat_minor": 5
}
